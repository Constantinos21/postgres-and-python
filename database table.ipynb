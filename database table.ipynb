{
 "cells": [
  {
   "cell_type": "code",
   "execution_count": 3,
   "metadata": {},
   "outputs": [
    {
     "name": "stdout",
     "output_type": "stream",
     "text": [
      "(1, 'Tim', 30, 'M')\n",
      "(2, 'Bob', 25, 'M')\n",
      "(3, 'Charlie', 35, 'M')\n"
     ]
    }
   ],
   "source": [
    "import psycopg2\n",
    "\n",
    "# Connection to the PostgreSQL database\n",
    "connection = psycopg2.connect(\n",
    "    host=\"localhost\", \n",
    "    dbname=\"postgres\", \n",
    "    user=\"postgres\", \n",
    "    password=\"Bboyordie123!\", \n",
    "    port=5432\n",
    ")\n",
    "\n",
    "# Create a cursor object \n",
    "cursor = connection.cursor()\n",
    "\n",
    "# Create a table \n",
    "cursor.execute(\"\"\"\n",
    "    CREATE TABLE IF NOT EXISTS person (\n",
    "        id SERIAL PRIMARY KEY,\n",
    "        name VARCHAR(255),\n",
    "        age INT,\n",
    "        gender CHAR\n",
    "    );\n",
    "\"\"\")\n",
    "\n",
    "# Add data to the table\n",
    "cursor.execute(\"\"\"\n",
    "    INSERT INTO person (name, age, gender) \n",
    "    VALUES \n",
    "    ('Tim', 30, 'M'), \n",
    "    ('Bob', 25, 'M'), \n",
    "    ('Charlie', 35, 'M');\n",
    "\"\"\")\n",
    "\n",
    "# Commit the changes in the database\n",
    "connection.commit()\n",
    "\n",
    "# Query the table to retrieve all data\n",
    "cursor.execute(\"SELECT * FROM person;\")\n",
    "\n",
    "# Fetch and print all rows from the result of the query\n",
    "rows = cursor.fetchall()\n",
    "for row in rows:\n",
    "    print(row)\n",
    "\n",
    "# Close the cursor and the connection\n",
    "cursor.close()\n",
    "connection.close()\n"
   ]
  }
 ],
 "metadata": {
  "kernelspec": {
   "display_name": "Python 3",
   "language": "python",
   "name": "python3"
  },
  "language_info": {
   "codemirror_mode": {
    "name": "ipython",
    "version": 3
   },
   "file_extension": ".py",
   "mimetype": "text/x-python",
   "name": "python",
   "nbconvert_exporter": "python",
   "pygments_lexer": "ipython3",
   "version": "3.12.4"
  }
 },
 "nbformat": 4,
 "nbformat_minor": 2
}
